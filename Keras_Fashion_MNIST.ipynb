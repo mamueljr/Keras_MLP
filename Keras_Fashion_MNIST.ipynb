{
 "cells": [
  {
   "cell_type": "code",
   "execution_count": 46,
   "id": "c400d61a-e0b8-4b1d-bc80-e1ba43195609",
   "metadata": {},
   "outputs": [],
   "source": [
    "import tensorflow as tf\n",
    "import pandas as pd\n",
    "import numpy as np\n",
    "import matplotlib.pyplot as plt\n",
    "%matplotlib inline"
   ]
  },
  {
   "cell_type": "markdown",
   "id": "2df56834-2388-4e99-9fd3-96393a32ebb9",
   "metadata": {},
   "source": [
    "### Cargar dataset "
   ]
  },
  {
   "cell_type": "code",
   "execution_count": 47,
   "id": "1e922760-0ddd-4205-a7a9-312898b9b9aa",
   "metadata": {},
   "outputs": [],
   "source": [
    "datasets = tf.keras.datasets.fashion_mnist\n",
    "(X_train_full, y_train_full), (X_test, y_test) = datasets.load_data()"
   ]
  },
  {
   "cell_type": "code",
   "execution_count": 48,
   "id": "30f0b90d-ab9b-4f5d-8013-851392cdfbc1",
   "metadata": {},
   "outputs": [
    {
     "data": {
      "text/plain": [
       "(60000, 28, 28)"
      ]
     },
     "execution_count": 48,
     "metadata": {},
     "output_type": "execute_result"
    }
   ],
   "source": [
    "X_train_full.shape"
   ]
  },
  {
   "cell_type": "code",
   "execution_count": 49,
   "id": "f931921d-c29f-4a7a-a2b6-0473bd8b7bb2",
   "metadata": {},
   "outputs": [
    {
     "data": {
      "text/plain": [
       "dtype('uint8')"
      ]
     },
     "execution_count": 49,
     "metadata": {},
     "output_type": "execute_result"
    }
   ],
   "source": [
    "X_train_full.dtype"
   ]
  },
  {
   "cell_type": "code",
   "execution_count": 50,
   "id": "4d127ea5-4958-424f-9e51-ad01ef68bc01",
   "metadata": {},
   "outputs": [
    {
     "data": {
      "text/plain": [
       "(60000,)"
      ]
     },
     "execution_count": 50,
     "metadata": {},
     "output_type": "execute_result"
    }
   ],
   "source": [
    "y_train_full.shape"
   ]
  },
  {
   "cell_type": "code",
   "execution_count": 51,
   "id": "e1a6763a-38ab-462e-859d-7a6b2a90cdf3",
   "metadata": {},
   "outputs": [
    {
     "data": {
      "text/plain": [
       "dtype('uint8')"
      ]
     },
     "execution_count": 51,
     "metadata": {},
     "output_type": "execute_result"
    }
   ],
   "source": [
    "y_train_full.dtype"
   ]
  },
  {
   "cell_type": "code",
   "execution_count": 52,
   "id": "16e57839-0bb5-4d14-8a15-505bfee0c596",
   "metadata": {},
   "outputs": [
    {
     "data": {
      "text/plain": [
       "(10000, 28, 28)"
      ]
     },
     "execution_count": 52,
     "metadata": {},
     "output_type": "execute_result"
    }
   ],
   "source": [
    "X_test.shape"
   ]
  },
  {
   "cell_type": "code",
   "execution_count": 53,
   "id": "c95366b1-a440-469b-b317-2981deb2fa70",
   "metadata": {},
   "outputs": [
    {
     "data": {
      "text/plain": [
       "dtype('uint8')"
      ]
     },
     "execution_count": 53,
     "metadata": {},
     "output_type": "execute_result"
    }
   ],
   "source": [
    "X_test.dtype"
   ]
  },
  {
   "cell_type": "code",
   "execution_count": 54,
   "id": "e7bd67df-1f82-4429-96c4-960231e825f1",
   "metadata": {},
   "outputs": [
    {
     "data": {
      "text/plain": [
       "(10000,)"
      ]
     },
     "execution_count": 54,
     "metadata": {},
     "output_type": "execute_result"
    }
   ],
   "source": [
    "y_test.shape"
   ]
  },
  {
   "cell_type": "code",
   "execution_count": 55,
   "id": "e77305b9-1fb3-4103-8dc7-4d7c4f947d6e",
   "metadata": {},
   "outputs": [
    {
     "data": {
      "text/plain": [
       "dtype('uint8')"
      ]
     },
     "execution_count": 55,
     "metadata": {},
     "output_type": "execute_result"
    }
   ],
   "source": [
    "y_test.dtype"
   ]
  },
  {
   "cell_type": "markdown",
   "id": "0600d4a3-fcc2-495f-9d89-67005503bb3d",
   "metadata": {},
   "source": [
    "Set de validacion"
   ]
  },
  {
   "cell_type": "code",
   "execution_count": 71,
   "id": "fd10ae67-168b-4293-bfed-19d646b37891",
   "metadata": {},
   "outputs": [],
   "source": [
    "X_validation, X_train = X_train_full[:5000] /255.0, X_train_full[500:]/255.0\n",
    "y_validation, y_train = y_train_full[:5000], y_train_full[500:]"
   ]
  },
  {
   "cell_type": "markdown",
   "id": "f8c74d70-72a7-4ace-8bc4-b5ea443da759",
   "metadata": {},
   "source": [
    "### Nombre de las Clases"
   ]
  },
  {
   "cell_type": "code",
   "execution_count": 72,
   "id": "0590ead6-7b15-4bbc-8b82-59179778e708",
   "metadata": {},
   "outputs": [],
   "source": [
    "class_names= ['T-shirt/top', 'Trouser', 'Pullover',\n",
    "              'Dress', 'Coat', 'Sandal', 'Shirt',\n",
    "              'Sneaker','Bag', 'Ankel boot']"
   ]
  },
  {
   "cell_type": "code",
   "execution_count": 73,
   "id": "070963c0-f3f1-45a5-83a7-013262bce67c",
   "metadata": {},
   "outputs": [
    {
     "data": {
      "text/plain": [
       "'Dress'"
      ]
     },
     "execution_count": 73,
     "metadata": {},
     "output_type": "execute_result"
    }
   ],
   "source": [
    "class_names[y_train[0]]"
   ]
  },
  {
   "cell_type": "markdown",
   "id": "1a45ca18-0f71-4608-b639-c014a5316543",
   "metadata": {},
   "source": [
    "### Modelo"
   ]
  },
  {
   "cell_type": "code",
   "execution_count": 74,
   "id": "c84ff52e-2245-4e87-81d9-17e59cba6ef4",
   "metadata": {},
   "outputs": [],
   "source": [
    "model = keras.Sequential()\n",
    "model.add(keras.layers.Flatten(input_shape = [28, 28]))\n",
    "model.add(keras.layers.Dense(300, activation = 'relu'))\n",
    "model.add(keras.layers.Dense(100, activation = 'relu')),\n",
    "model.add(keras.layers.Dense(10, activation = 'softmax'))"
   ]
  },
  {
   "cell_type": "code",
   "execution_count": 75,
   "id": "85b358d1-62c8-4ece-abdc-afd67139cf9b",
   "metadata": {},
   "outputs": [
    {
     "name": "stdout",
     "output_type": "stream",
     "text": [
      "Model: \"sequential_4\"\n",
      "_________________________________________________________________\n",
      " Layer (type)                Output Shape              Param #   \n",
      "=================================================================\n",
      " flatten_4 (Flatten)         (None, 784)               0         \n",
      "                                                                 \n",
      " dense_12 (Dense)            (None, 300)               235500    \n",
      "                                                                 \n",
      " dense_13 (Dense)            (None, 100)               30100     \n",
      "                                                                 \n",
      " dense_14 (Dense)            (None, 10)                1010      \n",
      "                                                                 \n",
      "=================================================================\n",
      "Total params: 266,610\n",
      "Trainable params: 266,610\n",
      "Non-trainable params: 0\n",
      "_________________________________________________________________\n"
     ]
    }
   ],
   "source": [
    "model.summary()"
   ]
  },
  {
   "cell_type": "code",
   "execution_count": 76,
   "id": "67723165-f352-4603-ae24-5cdb1cb3d36a",
   "metadata": {},
   "outputs": [
    {
     "data": {
      "text/plain": [
       "[<keras.layers.reshaping.flatten.Flatten at 0x7efff515d790>,\n",
       " <keras.layers.core.dense.Dense at 0x7f000b5c26d0>,\n",
       " <keras.layers.core.dense.Dense at 0x7f002c3da2d0>,\n",
       " <keras.layers.core.dense.Dense at 0x7efff4f44690>]"
      ]
     },
     "execution_count": 76,
     "metadata": {},
     "output_type": "execute_result"
    }
   ],
   "source": [
    "model.layers"
   ]
  },
  {
   "cell_type": "code",
   "execution_count": 77,
   "id": "c4a1bb52-682e-4451-96d1-a1f7ff3e8e1d",
   "metadata": {},
   "outputs": [],
   "source": [
    "hidden1=model.layers[1]"
   ]
  },
  {
   "cell_type": "code",
   "execution_count": 78,
   "id": "8e383331-a49d-41ad-a6e2-e90a78eb5d42",
   "metadata": {},
   "outputs": [
    {
     "data": {
      "text/plain": [
       "'dense_12'"
      ]
     },
     "execution_count": 78,
     "metadata": {},
     "output_type": "execute_result"
    }
   ],
   "source": [
    "hidden1.name"
   ]
  },
  {
   "cell_type": "code",
   "execution_count": 79,
   "id": "b68f5d9a-da9d-473a-9804-46d6fe6b9e81",
   "metadata": {},
   "outputs": [
    {
     "data": {
      "text/plain": [
       "True"
      ]
     },
     "execution_count": 79,
     "metadata": {},
     "output_type": "execute_result"
    }
   ],
   "source": [
    "model.get_layer('dense_12') is hidden1"
   ]
  },
  {
   "cell_type": "code",
   "execution_count": 80,
   "id": "f9f1a111-3790-41e5-bba4-a499577068c9",
   "metadata": {},
   "outputs": [],
   "source": [
    "weights, biases = hidden1.get_weights()"
   ]
  },
  {
   "cell_type": "markdown",
   "id": "20c11d28-c0b4-43ea-a16d-595795714dec",
   "metadata": {},
   "source": [
    "### Pesos"
   ]
  },
  {
   "cell_type": "code",
   "execution_count": 81,
   "id": "c8d9cc29-2039-418e-a6ab-c366afc23065",
   "metadata": {},
   "outputs": [
    {
     "data": {
      "text/plain": [
       "array([[ 0.02567716,  0.06386054, -0.02417609, ..., -0.00821851,\n",
       "        -0.05459142,  0.01963229],\n",
       "       [ 0.00183763, -0.05773203,  0.01352093, ..., -0.01465585,\n",
       "        -0.04121555,  0.04797775],\n",
       "       [ 0.02597726,  0.05004831, -0.06056118, ...,  0.06504168,\n",
       "        -0.04199275,  0.05675498],\n",
       "       ...,\n",
       "       [-0.01101432, -0.02530853, -0.03903748, ..., -0.07035278,\n",
       "        -0.00180703,  0.04670205],\n",
       "       [-0.02016978,  0.05921486, -0.0068596 , ..., -0.00126617,\n",
       "        -0.06625479,  0.05821665],\n",
       "       [-0.02687107,  0.0020799 ,  0.07371098, ...,  0.02142709,\n",
       "        -0.06249743,  0.02624466]], dtype=float32)"
      ]
     },
     "execution_count": 81,
     "metadata": {},
     "output_type": "execute_result"
    }
   ],
   "source": [
    "weights"
   ]
  },
  {
   "cell_type": "markdown",
   "id": "01b0c31d-0cf8-4572-a9ae-22bdd83af9ea",
   "metadata": {},
   "source": [
    "### Biases"
   ]
  },
  {
   "cell_type": "code",
   "execution_count": 82,
   "id": "c0afd6a1-bb71-4e7e-b749-04d355647d04",
   "metadata": {},
   "outputs": [
    {
     "data": {
      "text/plain": [
       "array([0., 0., 0., 0., 0., 0., 0., 0., 0., 0., 0., 0., 0., 0., 0., 0., 0.,\n",
       "       0., 0., 0., 0., 0., 0., 0., 0., 0., 0., 0., 0., 0., 0., 0., 0., 0.,\n",
       "       0., 0., 0., 0., 0., 0., 0., 0., 0., 0., 0., 0., 0., 0., 0., 0., 0.,\n",
       "       0., 0., 0., 0., 0., 0., 0., 0., 0., 0., 0., 0., 0., 0., 0., 0., 0.,\n",
       "       0., 0., 0., 0., 0., 0., 0., 0., 0., 0., 0., 0., 0., 0., 0., 0., 0.,\n",
       "       0., 0., 0., 0., 0., 0., 0., 0., 0., 0., 0., 0., 0., 0., 0., 0., 0.,\n",
       "       0., 0., 0., 0., 0., 0., 0., 0., 0., 0., 0., 0., 0., 0., 0., 0., 0.,\n",
       "       0., 0., 0., 0., 0., 0., 0., 0., 0., 0., 0., 0., 0., 0., 0., 0., 0.,\n",
       "       0., 0., 0., 0., 0., 0., 0., 0., 0., 0., 0., 0., 0., 0., 0., 0., 0.,\n",
       "       0., 0., 0., 0., 0., 0., 0., 0., 0., 0., 0., 0., 0., 0., 0., 0., 0.,\n",
       "       0., 0., 0., 0., 0., 0., 0., 0., 0., 0., 0., 0., 0., 0., 0., 0., 0.,\n",
       "       0., 0., 0., 0., 0., 0., 0., 0., 0., 0., 0., 0., 0., 0., 0., 0., 0.,\n",
       "       0., 0., 0., 0., 0., 0., 0., 0., 0., 0., 0., 0., 0., 0., 0., 0., 0.,\n",
       "       0., 0., 0., 0., 0., 0., 0., 0., 0., 0., 0., 0., 0., 0., 0., 0., 0.,\n",
       "       0., 0., 0., 0., 0., 0., 0., 0., 0., 0., 0., 0., 0., 0., 0., 0., 0.,\n",
       "       0., 0., 0., 0., 0., 0., 0., 0., 0., 0., 0., 0., 0., 0., 0., 0., 0.,\n",
       "       0., 0., 0., 0., 0., 0., 0., 0., 0., 0., 0., 0., 0., 0., 0., 0., 0.,\n",
       "       0., 0., 0., 0., 0., 0., 0., 0., 0., 0., 0.], dtype=float32)"
      ]
     },
     "execution_count": 82,
     "metadata": {},
     "output_type": "execute_result"
    }
   ],
   "source": [
    "biases"
   ]
  },
  {
   "cell_type": "code",
   "execution_count": 83,
   "id": "874c7a34-046b-4a61-9c91-d46c99e479c3",
   "metadata": {},
   "outputs": [],
   "source": [
    "model.compile(loss=tf.losses.sparse_categorical_crossentropy,\n",
    "             optimizer = 'sgd',\n",
    "             metrics=['accuracy'])"
   ]
  },
  {
   "cell_type": "code",
   "execution_count": 84,
   "id": "3e370e23-1eaf-41c2-aa03-5ed660861a8c",
   "metadata": {},
   "outputs": [
    {
     "name": "stdout",
     "output_type": "stream",
     "text": [
      "Epoch 1/30\n"
     ]
    },
    {
     "name": "stderr",
     "output_type": "stream",
     "text": [
      "2023-04-28 12:13:54.257865: W tensorflow/tsl/framework/cpu_allocator_impl.cc:82] Allocation of 186592000 exceeds 10% of free system memory.\n"
     ]
    },
    {
     "name": "stdout",
     "output_type": "stream",
     "text": [
      "1860/1860 [==============================] - 5s 3ms/step - loss: 0.7077 - accuracy: 0.7658 - val_loss: 0.5259 - val_accuracy: 0.8286\n",
      "Epoch 2/30\n",
      "1860/1860 [==============================] - 5s 3ms/step - loss: 0.4775 - accuracy: 0.8337 - val_loss: 0.4886 - val_accuracy: 0.8218\n",
      "Epoch 3/30\n",
      "1860/1860 [==============================] - 5s 3ms/step - loss: 0.4335 - accuracy: 0.8489 - val_loss: 0.3932 - val_accuracy: 0.8694\n",
      "Epoch 4/30\n",
      "1860/1860 [==============================] - 5s 3ms/step - loss: 0.4068 - accuracy: 0.8577 - val_loss: 0.4114 - val_accuracy: 0.8558\n",
      "Epoch 5/30\n",
      "1860/1860 [==============================] - 5s 3ms/step - loss: 0.3868 - accuracy: 0.8642 - val_loss: 0.3981 - val_accuracy: 0.8606\n",
      "Epoch 6/30\n",
      "1860/1860 [==============================] - 5s 3ms/step - loss: 0.3711 - accuracy: 0.8694 - val_loss: 0.3661 - val_accuracy: 0.8712\n",
      "Epoch 7/30\n",
      "1860/1860 [==============================] - 5s 3ms/step - loss: 0.3587 - accuracy: 0.8734 - val_loss: 0.3380 - val_accuracy: 0.8844\n",
      "Epoch 8/30\n",
      "1860/1860 [==============================] - 5s 3ms/step - loss: 0.3474 - accuracy: 0.8759 - val_loss: 0.3291 - val_accuracy: 0.8886\n",
      "Epoch 9/30\n",
      "1860/1860 [==============================] - 5s 3ms/step - loss: 0.3374 - accuracy: 0.8808 - val_loss: 0.3324 - val_accuracy: 0.8796\n",
      "Epoch 10/30\n",
      "1860/1860 [==============================] - 5s 3ms/step - loss: 0.3277 - accuracy: 0.8837 - val_loss: 0.3373 - val_accuracy: 0.8770\n",
      "Epoch 11/30\n",
      "1860/1860 [==============================] - 4s 2ms/step - loss: 0.3199 - accuracy: 0.8865 - val_loss: 0.2960 - val_accuracy: 0.8928\n",
      "Epoch 12/30\n",
      "1860/1860 [==============================] - 4s 2ms/step - loss: 0.3117 - accuracy: 0.8879 - val_loss: 0.3011 - val_accuracy: 0.8914\n",
      "Epoch 13/30\n",
      "1860/1860 [==============================] - 4s 2ms/step - loss: 0.3048 - accuracy: 0.8908 - val_loss: 0.2960 - val_accuracy: 0.8910\n",
      "Epoch 14/30\n",
      "1860/1860 [==============================] - 4s 2ms/step - loss: 0.2976 - accuracy: 0.8936 - val_loss: 0.3236 - val_accuracy: 0.8768\n",
      "Epoch 15/30\n",
      "1860/1860 [==============================] - 4s 2ms/step - loss: 0.2910 - accuracy: 0.8947 - val_loss: 0.3038 - val_accuracy: 0.8904\n",
      "Epoch 16/30\n",
      "1860/1860 [==============================] - 4s 2ms/step - loss: 0.2860 - accuracy: 0.8967 - val_loss: 0.2877 - val_accuracy: 0.8938\n",
      "Epoch 17/30\n",
      "1860/1860 [==============================] - 4s 2ms/step - loss: 0.2803 - accuracy: 0.8989 - val_loss: 0.2689 - val_accuracy: 0.9026\n",
      "Epoch 18/30\n",
      "1860/1860 [==============================] - 4s 2ms/step - loss: 0.2741 - accuracy: 0.9010 - val_loss: 0.2701 - val_accuracy: 0.9008\n",
      "Epoch 19/30\n",
      "1860/1860 [==============================] - 5s 2ms/step - loss: 0.2693 - accuracy: 0.9034 - val_loss: 0.2753 - val_accuracy: 0.8990\n",
      "Epoch 20/30\n",
      "1860/1860 [==============================] - 5s 3ms/step - loss: 0.2630 - accuracy: 0.9051 - val_loss: 0.2567 - val_accuracy: 0.9072\n",
      "Epoch 21/30\n",
      "1860/1860 [==============================] - 4s 2ms/step - loss: 0.2597 - accuracy: 0.9069 - val_loss: 0.2536 - val_accuracy: 0.9086\n",
      "Epoch 22/30\n",
      "1860/1860 [==============================] - 5s 2ms/step - loss: 0.2552 - accuracy: 0.9078 - val_loss: 0.2419 - val_accuracy: 0.9114\n",
      "Epoch 23/30\n",
      "1860/1860 [==============================] - 5s 3ms/step - loss: 0.2502 - accuracy: 0.9096 - val_loss: 0.2361 - val_accuracy: 0.9170\n",
      "Epoch 24/30\n",
      "1860/1860 [==============================] - 5s 2ms/step - loss: 0.2457 - accuracy: 0.9109 - val_loss: 0.2583 - val_accuracy: 0.9032\n",
      "Epoch 25/30\n",
      "1860/1860 [==============================] - 4s 2ms/step - loss: 0.2417 - accuracy: 0.9121 - val_loss: 0.2304 - val_accuracy: 0.9144\n",
      "Epoch 26/30\n",
      "1860/1860 [==============================] - 5s 3ms/step - loss: 0.2376 - accuracy: 0.9136 - val_loss: 0.2481 - val_accuracy: 0.9048\n",
      "Epoch 27/30\n",
      "1860/1860 [==============================] - 5s 3ms/step - loss: 0.2334 - accuracy: 0.9157 - val_loss: 0.2208 - val_accuracy: 0.9214\n",
      "Epoch 28/30\n",
      "1860/1860 [==============================] - 5s 2ms/step - loss: 0.2300 - accuracy: 0.9162 - val_loss: 0.2209 - val_accuracy: 0.9184\n",
      "Epoch 29/30\n",
      "1860/1860 [==============================] - 5s 2ms/step - loss: 0.2259 - accuracy: 0.9193 - val_loss: 0.2153 - val_accuracy: 0.9234\n",
      "Epoch 30/30\n",
      "1860/1860 [==============================] - 5s 2ms/step - loss: 0.2224 - accuracy: 0.9191 - val_loss: 0.2674 - val_accuracy: 0.8954\n"
     ]
    }
   ],
   "source": [
    "history  = model.fit(X_train, y_train, epochs=30,\n",
    "                    validation_data=(X_validation, y_validation))"
   ]
  },
  {
   "cell_type": "markdown",
   "id": "9a49f934-8e63-4d07-adab-a05700ed45bd",
   "metadata": {},
   "source": [
    "### Plot del modelo"
   ]
  },
  {
   "cell_type": "code",
   "execution_count": 86,
   "id": "b0e81015-1385-4d73-b668-299f8e68ebcc",
   "metadata": {},
   "outputs": [
    {
     "data": {
      "image/png": "[encoded data removed]",
      "text/plain": [
       "<Figure size 800x500 with 1 Axes>"
      ]
     },
     "metadata": {},
     "output_type": "display_data"
    }
   ],
   "source": [
    "pd.DataFrame(history.history).plot(figsize = (8, 5))\n",
    "plt.grid(True)\n",
    "plt.gca().set_ylim(0, 1)\n",
    "plt.show()"
   ]
  },
  {
   "cell_type": "markdown",
   "id": "fcd7e002-61c4-4888-85ef-2a9b27afd77c",
   "metadata": {},
   "source": [
    "### Evaluar el modelo"
   ]
  },
  {
   "cell_type": "code",
   "execution_count": 87,
   "id": "cd08347a-604b-4d32-a8f8-3b52c469fe04",
   "metadata": {},
   "outputs": [
    {
     "name": "stdout",
     "output_type": "stream",
     "text": [
      "313/313 [==============================] - 1s 1ms/step - loss: 74.9566 - accuracy: 0.8170\n"
     ]
    },
    {
     "data": {
      "text/plain": [
       "[74.95661926269531, 0.8169999718666077]"
      ]
     },
     "execution_count": 87,
     "metadata": {},
     "output_type": "execute_result"
    }
   ],
   "source": [
    "model.evaluate(X_test, y_test)"
   ]
  },
  {
   "cell_type": "code",
   "execution_count": null,
   "id": "b6092945-1b11-449d-a037-ebeab7faf833",
   "metadata": {},
   "outputs": [],
   "source": []
  }
 ],
 "metadata": {
  "kernelspec": {
   "display_name": "Python 3 (ipykernel)",
   "language": "python",
   "name": "python3"
  },
  "language_info": {
   "codemirror_mode": {
    "name": "ipython",
    "version": 3
   },
   "file_extension": ".py",
   "mimetype": "text/x-python",
   "name": "python",
   "nbconvert_exporter": "python",
   "pygments_lexer": "ipython3",
   "version": "3.7.16"
  }
 },
 "nbformat": 4,
 "nbformat_minor": 5
}
